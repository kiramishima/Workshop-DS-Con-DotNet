{
 "cells": [
  {
   "cell_type": "markdown",
   "id": "db33266c-81cc-4735-a251-c43eec400caa",
   "metadata": {
    "slideshow": {
     "slide_type": "slide"
    }
   },
   "source": [
    "![alt text](cover.png \"Cover\")\n",
    "\n",
    "# Intro Notebooks con F#\n",
    "\n",
    "Tenemos varias opciones, como escribir codígo o usar Markdown para escribir nuestros articulos y despues mostrar nuestros resultados gracias a la ejecución del codígo.\n",
    "En este Workshop trabajaremos el caso de nuestro cliente Tailwind Sports.\n",
    "\n",
    "Así que lo primero que haremos sera cargar nuestras librerías a este espacio de trabajo.\n",
    "\n"
   ]
  },
  {
   "cell_type": "markdown",
   "id": "cc4a319c",
   "metadata": {
    "slideshow": {
     "slide_type": "slide"
    }
   },
   "source": [
    "## Trabajando con Nuget Packages desde un Notebook\n",
    "\n",
    "Para usar las librerias de nuget haremos uso de la siguiente sintaxis : \n",
    "\n",
    "```\n",
    "#r \"<nuget package>, <nuget package version>\"\n",
    "```\n",
    "\n",
    "En este proyecto utilizaremos las sig. librerías:\n",
    "\n",
    "\n",
    "1. FSharp.Data : Nos permitira trabajar con servicios externos de manera facil.\n",
    "2. Deedle : Inspirada en pandas, nos permitira trabajar con Dataframes.\n",
    "3. Plotly.NET : Nos permite crear graficos en HTML muy similar a lo que hace Bokeh y Matplotlib en Python.\n",
    "4. Newtonsoft.Json : Libreria para trabajar con JSON "
   ]
  },
  {
   "cell_type": "code",
   "execution_count": 1,
   "id": "470c9123-e7e0-4c08-9757-d990bacce9b3",
   "metadata": {
    "slideshow": {
     "slide_type": "slide"
    }
   },
   "outputs": [
    {
     "data": {
      "text/html": [
       "\r\n",
       "<div>\r\n",
       "    <div id='dotnet-interactive-this-cell-13476.Microsoft.DotNet.Interactive.Http.HttpPort' style='display: none'>\r\n",
       "        The below script needs to be able to find the current output cell; this is an easy method to get it.\r\n",
       "    </div>\r\n",
       "    <script type='text/javascript'>\r\n",
       "async function probeAddresses(probingAddresses) {\r\n",
       "    function timeout(ms, promise) {\r\n",
       "        return new Promise(function (resolve, reject) {\r\n",
       "            setTimeout(function () {\r\n",
       "                reject(new Error('timeout'))\r\n",
       "            }, ms)\r\n",
       "            promise.then(resolve, reject)\r\n",
       "        })\r\n",
       "    }\r\n",
       "\r\n",
       "    if (Array.isArray(probingAddresses)) {\r\n",
       "        for (let i = 0; i < probingAddresses.length; i++) {\r\n",
       "\r\n",
       "            let rootUrl = probingAddresses[i];\r\n",
       "\r\n",
       "            if (!rootUrl.endsWith('/')) {\r\n",
       "                rootUrl = `${rootUrl}/`;\r\n",
       "            }\r\n",
       "\r\n",
       "            try {\r\n",
       "                let response = await timeout(1000, fetch(`${rootUrl}discovery`, {\r\n",
       "                    method: 'POST',\r\n",
       "                    cache: 'no-cache',\r\n",
       "                    mode: 'cors',\r\n",
       "                    timeout: 1000,\r\n",
       "                    headers: {\r\n",
       "                        'Content-Type': 'text/plain'\r\n",
       "                    },\r\n",
       "                    body: probingAddresses[i]\r\n",
       "                }));\r\n",
       "\r\n",
       "                if (response.status == 200) {\r\n",
       "                    return rootUrl;\r\n",
       "                }\r\n",
       "            }\r\n",
       "            catch (e) { }\r\n",
       "        }\r\n",
       "    }\r\n",
       "}\r\n",
       "\r\n",
       "function loadDotnetInteractiveApi() {\r\n",
       "    probeAddresses([\"http://192.168.16.1:1000/\", \"http://172.30.80.1:1000/\", \"http://192.168.100.13:1000/\", \"http://127.0.0.1:1000/\"])\r\n",
       "        .then((root) => {\r\n",
       "        // use probing to find host url and api resources\r\n",
       "        // load interactive helpers and language services\r\n",
       "        let dotnetInteractiveRequire = require.config({\r\n",
       "        context: '13476.Microsoft.DotNet.Interactive.Http.HttpPort',\r\n",
       "                paths:\r\n",
       "            {\r\n",
       "                'dotnet-interactive': `${root}resources`\r\n",
       "                }\r\n",
       "        }) || require;\r\n",
       "\r\n",
       "            window.dotnetInteractiveRequire = dotnetInteractiveRequire;\r\n",
       "\r\n",
       "            window.configureRequireFromExtension = function(extensionName, extensionCacheBuster) {\r\n",
       "                let paths = {};\r\n",
       "                paths[extensionName] = `${root}extensions/${extensionName}/resources/`;\r\n",
       "                \r\n",
       "                let internalRequire = require.config({\r\n",
       "                    context: extensionCacheBuster,\r\n",
       "                    paths: paths,\r\n",
       "                    urlArgs: `cacheBuster=${extensionCacheBuster}`\r\n",
       "                    }) || require;\r\n",
       "\r\n",
       "                return internalRequire\r\n",
       "            };\r\n",
       "        \r\n",
       "            dotnetInteractiveRequire([\r\n",
       "                    'dotnet-interactive/dotnet-interactive'\r\n",
       "                ],\r\n",
       "                function (dotnet) {\r\n",
       "                    dotnet.init(window);\r\n",
       "                },\r\n",
       "                function (error) {\r\n",
       "                    console.log(error);\r\n",
       "                }\r\n",
       "            );\r\n",
       "        })\r\n",
       "        .catch(error => {console.log(error);});\r\n",
       "    }\r\n",
       "\r\n",
       "// ensure `require` is available globally\r\n",
       "if ((typeof(require) !==  typeof(Function)) || (typeof(require.config) !== typeof(Function))) {\r\n",
       "    let require_script = document.createElement('script');\r\n",
       "    require_script.setAttribute('src', 'https://cdnjs.cloudflare.com/ajax/libs/require.js/2.3.6/require.min.js');\r\n",
       "    require_script.setAttribute('type', 'text/javascript');\r\n",
       "    \r\n",
       "    \r\n",
       "    require_script.onload = function() {\r\n",
       "        loadDotnetInteractiveApi();\r\n",
       "    };\r\n",
       "\r\n",
       "    document.getElementsByTagName('head')[0].appendChild(require_script);\r\n",
       "}\r\n",
       "else {\r\n",
       "    loadDotnetInteractiveApi();\r\n",
       "}\r\n",
       "\r\n",
       "    </script>\r\n",
       "</div>"
      ]
     },
     "metadata": {},
     "output_type": "display_data"
    },
    {
     "data": {
      "text/html": [
       "<div><div></div><div><strong>Installed Packages</strong><ul><li><span>Deedle, 2.5.0</span></li><li><span>dynamicobj, 0.2.0</span></li><li><span>fsharp.core, 6.0.1</span></li><li><span>FSharp.Data, 4.2.5</span></li><li><span>humanizer.core, 2.2.0</span></li><li><span>microsoft.aspnetcore.html.abstractions, 2.2.0</span></li><li><span>microsoft.bcl.asyncinterfaces, 5.0.0</span></li><li><span>microsoft.codeanalysis.common, 3.11.0</span></li><li><span>microsoft.codeanalysis.csharp, 3.11.0</span></li><li><span>microsoft.codeanalysis.csharp.workspaces, 3.11.0</span></li><li><span>microsoft.codeanalysis.visualbasic, 3.11.0</span></li><li><span>microsoft.codeanalysis.visualbasic.workspaces, 3.11.0</span></li><li><span>microsoft.codeanalysis.workspaces.common, 3.11.0</span></li><li><span>microsoft.dotnet.interactive, 1.0.0-beta.21559.2</span></li><li><span>microsoft.dotnet.interactive.documents, 1.0.0-beta.21559.2</span></li><li><span>microsoft.dotnet.interactive.formatting, 1.0.0-beta.21559.2</span></li><li><span>Newtonsoft.Json, 13.0.1</span></li><li><span>nuget.frameworks, 5.11.0</span></li><li><span>Plotly.NET, 2.0.0-preview.14</span></li><li><span>Plotly.NET.Interactive, 2.0.0-preview.14</span></li><li><span>system.commandline, 2.0.0-beta1.21308.1</span></li><li><span>system.commandline.rendering, 0.3.0-alpha.20427.1</span></li><li><span>system.composition.attributedmodel, 1.0.31</span></li><li><span>system.composition.convention, 1.0.31</span></li><li><span>system.composition.hosting, 1.0.31</span></li><li><span>system.composition.runtime, 1.0.31</span></li><li><span>system.composition.typedparts, 1.0.31</span></li><li><span>system.io.pipelines, 5.0.1</span></li><li><span>system.reactive, 5.0.0</span></li><li><span>system.text.encodings.web, 5.0.1</span></li><li><span>system.text.json, 5.0.2</span></li></ul></div><div></div></div>"
      ]
     },
     "metadata": {},
     "output_type": "display_data"
    },
    {
     "data": {
      "text/markdown": [
       "Loading extensions from `Plotly.NET.Interactive.dll`"
      ]
     },
     "metadata": {},
     "output_type": "display_data"
    }
   ],
   "source": [
    "#r \"nuget:FSharp.Data\"\n",
    "#r \"nuget:Deedle\"\n",
    "#r \"nuget: Plotly.NET, 2.0.0-preview.14\"\n",
    "#r \"nuget: Plotly.NET.Interactive, 2.0.0-preview.14\"\n",
    "#r \"nuget: Newtonsoft.Json\""
   ]
  },
  {
   "cell_type": "markdown",
   "id": "52d6f79e-1fc1-4d49-a485-1ae135102346",
   "metadata": {
    "slideshow": {
     "slide_type": "slide"
    }
   },
   "source": [
    "# Cargando datos en un Dataframe con Deedle\n",
    "\n",
    "### Para cargar datos desde un archivo, usaremos Deedle, importamos el namespace de Deedle, y posteriormente usamos la siguiente sintaxis:\n",
    "\n",
    "```\n",
    "using Deedle;\n",
    "\n",
    "var df = Deedle.Frame.ReadCsv(\"archivo.csv\", separators: \",\", hasHeaders: true);\n",
    "\n",
    "# hasHeaders en caso de que el archivo CSV cuente con headers en la primera fila\n",
    "# separators indica el tipo de separadores usados en el CSV, comunmente veremos \",\", \";\" , \"\\t\" , etc \n",
    "```\n",
    "\n",
    "En este taller usaremos el archivo `tailwind_sports_db.csv` que se encuentra en el directorio de DATASET"
   ]
  },
  {
   "cell_type": "code",
   "execution_count": 2,
   "id": "ae592893-4fb7-403d-843e-7c36335edfba",
   "metadata": {
    "slideshow": {
     "slide_type": "-"
    }
   },
   "outputs": [],
   "source": [
    "open Deedle\n",
    "open System\n",
    "open System.Globalization\n",
    "\n",
    "let df = Frame.ReadCsv(@\"../DATASET/tailwind_sports_db.csv\", separators=\",\", hasHeaders= true)"
   ]
  },
  {
   "cell_type": "markdown",
   "id": "911881bb-2168-4d02-817e-5ded18491713",
   "metadata": {
    "slideshow": {
     "slide_type": "slide"
    }
   },
   "source": [
    "#### Para visualizar los primeros 5 registros del dataframe, debemos usar la propiedad `Rows` y su metodo `Between`. Para imprimir usamos el metodo `Print` al final.\n",
    "\n",
    "\n",
    "dataframe.<b style=\"color: purple;\">Rows</b>.<b style=\"color: blue;\">Between</b>(<b style=\"color: green;\">indice 1</b>, <b style=\"color: orange;\">indice 2</b>).**Print**()"
   ]
  },
  {
   "cell_type": "code",
   "execution_count": 3,
   "id": "b520f325-141f-44ef-bb23-cdea8862470f",
   "metadata": {
    "slideshow": {
     "slide_type": "subslide"
    }
   },
   "outputs": [
    {
     "name": "stdout",
     "output_type": "stream",
     "text": [
      "0 -> series [ Orden => 1; Fecha => 06/08/2017; Medio => Propio; Vendedor => Directo en Tienda; Plataforma => Website;  ... ; Ingreso => 40.00] \n",
      "1 -> series [ Orden => 1; Fecha => 06/08/2017; Medio => Propio; Vendedor => Directo en Tienda; Plataforma => Website;  ... ; Ingreso => 50.00] \n",
      "2 -> series [ Orden => 1; Fecha => 06/08/2017; Medio => Propio; Vendedor => Directo en Tienda; Plataforma => Website;  ... ; Ingreso => 36.00] \n",
      "3 -> series [ Orden => 1; Fecha => 06/08/2017; Medio => Propio; Vendedor => Directo en Tienda; Plataforma => Website;  ... ; Ingreso => 40.00] \n",
      "4 -> series [ Orden => 1; Fecha => 06/08/2017; Medio => Propio; Vendedor => Directo en Tienda; Plataforma => Website;  ... ; Ingreso => 50.00] \n",
      "5 -> series [ Orden => 1; Fecha => 06/08/2017; Medio => Propio; Vendedor => Directo en Tienda; Plataforma => Website;  ... ; Ingreso => 45.00] \n",
      "\n"
     ]
    }
   ],
   "source": [
    "df.Rows.Between(0, 5).Print()"
   ]
  },
  {
   "cell_type": "code",
   "execution_count": null,
   "id": "d13a1a4d-b739-4bd9-aed1-4a3132021478",
   "metadata": {},
   "outputs": [],
   "source": []
  }
 ],
 "metadata": {
  "celltoolbar": "Slideshow",
  "kernelspec": {
   "display_name": ".NET (F#)",
   "language": "F#",
   "name": ".net-fsharp"
  },
  "language_info": {
   "file_extension": ".fs",
   "mimetype": "text/x-fsharp",
   "name": "F#",
   "pygments_lexer": "fsharp",
   "version": "5.0"
  }
 },
 "nbformat": 4,
 "nbformat_minor": 5
}
